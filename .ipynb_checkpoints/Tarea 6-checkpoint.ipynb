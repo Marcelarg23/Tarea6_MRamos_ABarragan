{
 "cells": [
  {
   "cell_type": "markdown",
   "metadata": {},
   "source": [
    "<img style=\"float: left; margin: 30px 15px 15px 15px;\" src=\"https://pngimage.net/wp-content/uploads/2018/06/logo-iteso-png-5.png\" width=\"300\" height=\"500\" /> \n",
    "    \n",
    "    \n",
    "### <font color='navy'> Simulación de procesos financieros. \n",
    "\n",
    "**Nombres:** \n",
    "\n",
    "Ramos Gutierrez Ana Marcela.\n",
    "\n",
    "Barragán Vázquez Lizbeth Alejandra.\n",
    "\n",
    "**Fecha:** 05 de marzo del 2020.\n",
    "\n",
    "**Expediente** : 714735.\n",
    "**Profesor:** Oscar David Jaramillo Zuluaga.\n",
    "\n",
    "# Tarea 6: Clase 10"
   ]
  },
  {
   "cell_type": "markdown",
   "metadata": {},
   "source": [
    "## Enunciado de tarea \n",
    "Resolver los cuestionamientos planteados de la clase 10"
   ]
  },
  {
   "cell_type": "markdown",
   "metadata": {},
   "source": [
    "### Ejercicio 1: \n",
    "> ## <font color ='red'>Tarea\n",
    "Seguir un procedimiento similar al mostrado cuando se generó una distribución binomial, pero en esta caso genere un código que genere variables aletorias Poisson cuya función de distribución de probabilidad esta dada por:\n",
    ">$$P(k,\\lambda)=\\frac{e^{-\\lambda}(\\lambda)^k}{k!}$$\n",
    "    \n",
    "> Demuestre matemáticamente que \n",
    "> $$P(k+1)=\\frac{\\lambda}{k+1}P(k)$$\n",
    "> y a partir de esta relación genere variables aletorias que distribuyen poisson usando el método de la transformada inversa.\n",
    "\n",
    "Enlace: https://es.wikipedia.org/wiki/Distribuci%C3%B3n_de_Poisson"
   ]
  },
  {
   "cell_type": "markdown",
   "metadata": {},
   "source": [
    "### Respuesta"
   ]
  },
  {
   "cell_type": "code",
   "execution_count": null,
   "metadata": {},
   "outputs": [],
   "source": []
  },
  {
   "cell_type": "code",
   "execution_count": null,
   "metadata": {},
   "outputs": [],
   "source": []
  },
  {
   "cell_type": "code",
   "execution_count": null,
   "metadata": {},
   "outputs": [],
   "source": []
  },
  {
   "cell_type": "markdown",
   "metadata": {},
   "source": [
    "### Respuesta planteada en el ejercicio "
   ]
  },
  {
   "cell_type": "markdown",
   "metadata": {},
   "source": []
  },
  {
   "cell_type": "markdown",
   "metadata": {},
   "source": [
    "# Tarea \n",
    "Partiendo que se desea generar variables aleatorias para la siguiente función de densidad\n",
    "$$f(x)=30(x^2-2x^3+x^4)$$\n",
    "Responda los siguientes literales:\n",
    "1. Usar como función que mayora a $f(x)$ a $t(x)=a \\sin(\\pi x)$ donde a es el máximo de la función $f(x)$ y graficarlas en una misma gráfica, para validar que en realidad si cumple la condición $t(x)\\geq f(x)$.\n",
    "2. Encontrar la función de densidad $g(x)$ según lo visto en clase. Reportar todos los cálculos realizados para encontrar dicha función usando Markdown (Latex).\n",
    "3. Usar la función encontrada en el punto 2 y utilizar el método de la transformada inversa visto en la clase 9, para generar variables aleatorias que sigan la distribución $g(x)$. **Nota:** Recuerde que el método de la transformada inversa funciona con la distribución de probabilidad acumulada y no con su densidad. Nuevamente similar al punto anterior reportar todos los cálculos usando Markdown (Latex). \n",
    "4. Según el punto 3, generar 10000 puntos aleatorios que sigan la distribución $g(x)$ y comparar con su histograma para validar que los puntos generados siguen la distribución deseada. El resultado debe ser como sigue:\n",
    "![imagen.png](attachment:imagen.png)"
   ]
  },
  {
   "cell_type": "markdown",
   "metadata": {},
   "source": [
    "5. Genere 500 puntos aleatorios usando el método de aceptación y rechazo y las funciones $f(x)$ y $t(x)$ para validar que todos los cálculos anteriores están correctamente realizados. El resultado debe de ser como sigue:\n",
    "![imagen.png](attachment:imagen.png)"
   ]
  },
  {
   "cell_type": "markdown",
   "metadata": {},
   "source": [
    "6. Comparar el porcentaje de puntos de aceptación cuando se usa $t(x)$ constante y $t(x)$ un pulso senoidal. Concluir"
   ]
  },
  {
   "cell_type": "markdown",
   "metadata": {},
   "source": [
    "7. Genere una variable aleatoria $X$ a partir de la siguiente PDF\n",
    "$$f(x)=20x(1-x)^3$$ \n",
    "usando el método de aceptación y rechazo"
   ]
  },
  {
   "cell_type": "code",
   "execution_count": 2,
   "metadata": {},
   "outputs": [],
   "source": [
    "from scipy import optimize\n",
    "from scipy.stats import beta\n",
    "import matplotlib.pyplot as plt\n",
    "import numpy as np\n",
    "# %matplotlib notebook\n",
    "%matplotlib inline"
   ]
  },
  {
   "cell_type": "code",
   "execution_count": 4,
   "metadata": {
    "scrolled": true
   },
   "outputs": [
    {
     "data": {
      "image/png": "[encoded data removed]",
      "text/plain": [
       "<Figure size 432x288 with 1 Axes>"
      ]
     },
     "metadata": {
      "needs_background": "light"
     },
     "output_type": "display_data"
    },
    {
     "name": "stdout",
     "output_type": "stream",
     "text": [
      "a =  [1.875]\n"
     ]
    }
   ],
   "source": [
    "# Función objetivo \n",
    "f = lambda x:30*(x**2-2*x**3+x**4)\n",
    "\n",
    "# Máximo de la función f\n",
    "max_f = f(optimize.fmin(lambda x:-f(x),0,disp=False))\n",
    "\n",
    "# Función t\n",
    "a = max_f\n",
    "t = lambda x: a*np.sin(np.pi*x)\n",
    "\n",
    "x = np.arange(0, 1, 0.01)\n",
    "\n",
    "# Gráficas de las funciones\n",
    "plt.plot(x, f(x), label='f(x)', color = 'lightcoral')\n",
    "plt.plot(x, t(x), label='t(x)', color = 'lightseagreen')\n",
    "plt.legend(loc = \"best\")\n",
    "plt.show()\n",
    "print(\"a = \", a)"
   ]
  },
  {
   "cell_type": "markdown",
   "metadata": {},
   "source": [
    "Sabemos que \n",
    "$$c=\\int_{-\\infty}^{\\infty}t(x)\\geq 1$$\n",
    "\n",
    "Por lo tanto, para encontrar $g(x)$ hacemos lo siguiente:\n",
    "$$g(x)=\\frac{t(x)}{\\int_{-\\infty}^{\\infty}t(x)dx}$$\n",
    "\n",
    "Como la función $c$ diverge, cambiamos los límites de la integral de $\\int_{-\\infty}^{\\infty}$ a $\\int_{0}^{1}$\n",
    "\n",
    "Entonces nos quedaria que \n",
    "$$g(x)=\\frac{t(x)}{\\int_{0}^{1}t(x)dx}$$\n",
    "\n",
    "$$g(x)=\\frac{1.875\\sin(\\pi x)}{\\int_{0}^{1}1.875\\sin(\\pi x)dx}$$\n",
    "\n",
    "$$g(x)=\\frac{1.875\\sin(\\pi x)}{1.875\\int_{0}^{1}\\sin(\\pi x)dx}$$\n",
    "\n",
    "Se elimina la constante y se resuelve la integral del denominador obteniendo que la función de densidad $g(x)$ es:\n",
    "\n",
    "$$g(x)=\\frac{\\sin(\\pi x)}{\\frac{2}{\\pi}}$$\n",
    "\n",
    "$$g(x)=\\frac{\\pi\\sin(\\pi x)}{2}$$\n"
   ]
  },
  {
   "cell_type": "markdown",
   "metadata": {},
   "source": [
    "Integral\n",
    "\n",
    "$$g(x)=\\frac{\\pi\\sin(\\pi x)}{2}$$\n",
    "\n",
    "$$G(x)=\\int_{-\\infty}^{x}\\frac{\\pi\\sin(\\pi x)}{2}dx$$\n",
    "\n",
    "Como la integral siverge, se cambian sus limites de $\\int_{-\\infty}^{x}$ a $\\int_{0}^{x}$ y queda de la siguiente manera:\n",
    "\n",
    "$$G(X)=\\int_{0}^{x}\\frac{\\pi\\sin(\\pi x)}{2}dx$$\n",
    "\n",
    "Resolvemos la integral\n",
    "\n",
    "$$G(x)="
   ]
  },
  {
   "cell_type": "markdown",
   "metadata": {},
   "source": [
    "Obtener transformada inversa\n",
    "\n",
    "$$g(x)=\\frac{\\pi\\sin(\\pi x)}{2}$$\n",
    "\n",
    "$$\\sin(\\pi x)=\\frac{2 g(x)}{\\pi}$$\n",
    "\n",
    "$$\\pi x=\\arcsin(\\frac{2 g(x)}{\\pi}$$\n",
    "\n",
    "$$x=\\frac{\\arcsin(\\frac{2 g(x)}{\\pi})}{\\pi}$$\n",
    "\n",
    "sustituimos $g(x)=x$ y nos queda que la transformada inversa es:\n",
    "\n",
    "$$\\frac{\\arcsin(\\frac{2x}{\\pi})}{\\pi}$$\n",
    "\n"
   ]
  },
  {
   "cell_type": "code",
   "execution_count": 5,
   "metadata": {},
   "outputs": [],
   "source": [
    "# Código de solución \n",
    "N=100\n",
    "def Tinv(arcsin,N):\n",
    "    y = (np.arcsin((2*np.random.random(N))/np.pi)/np.pi)\n",
    "    return y"
   ]
  },
  {
   "cell_type": "code",
   "execution_count": 6,
   "metadata": {},
   "outputs": [
    {
     "data": {
      "image/png": "[encoded data removed]",
      "text/plain": [
       "<Figure size 432x288 with 1 Axes>"
      ]
     },
     "metadata": {
      "needs_background": "light"
     },
     "output_type": "display_data"
    }
   ],
   "source": [
    "N = 100\n",
    "r1 = Tinv(np.arcsin,N)\n",
    "plt.hist(r1, bins = 100, density = True, color = 'navy')\n",
    "plt.show()"
   ]
  },
  {
   "cell_type": "code",
   "execution_count": null,
   "metadata": {},
   "outputs": [],
   "source": []
  },
  {
   "cell_type": "markdown",
   "metadata": {},
   "source": [
    "### Respuesta planteada en el ejercicio \n"
   ]
  },
  {
   "cell_type": "markdown",
   "metadata": {},
   "source": []
  }
 ],
 "metadata": {
  "kernelspec": {
   "display_name": "Python 3",
   "language": "python",
   "name": "python3"
  },
  "language_info": {
   "codemirror_mode": {
    "name": "ipython",
    "version": 3
   },
   "file_extension": ".py",
   "mimetype": "text/x-python",
   "name": "python",
   "nbconvert_exporter": "python",
   "pygments_lexer": "ipython3",
   "version": "3.7.3"
  }
 },
 "nbformat": 4,
 "nbformat_minor": 2
}
